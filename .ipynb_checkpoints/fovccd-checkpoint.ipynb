{
 "cells": [
  {
   "cell_type": "markdown",
   "metadata": {},
   "source": [
    "# Menghitung Field of View CCD Teleskop"
   ]
  },
  {
   "cell_type": "code",
   "execution_count": 1,
   "metadata": {},
   "outputs": [],
   "source": [
    "# nbi:hide_in\n",
    "# _jengkolrebus\n",
    "# Curup, Bengkulu\n",
    "# Juni 2020"
   ]
  },
  {
   "cell_type": "markdown",
   "metadata": {},
   "source": [
    "### Rumus yang digunakan\n",
    "\n",
    "<img src=\"rumus.png\">\n",
    "<em>sumber: <a href=\"http://www.astrosurf.com/luxorion/report-formulae.htm\">Astrosurf.com</a></em>\n",
    "<p>Ukuran sensor dan panjang fokus dalam milimeter (mm).</p>"
   ]
  },
  {
   "cell_type": "code",
   "execution_count": 2,
   "metadata": {},
   "outputs": [],
   "source": [
    "# nbi:hide_in\n",
    "from ipywidgets import widgets, interactive"
   ]
  },
  {
   "cell_type": "code",
   "execution_count": 3,
   "metadata": {},
   "outputs": [],
   "source": [
    "# nbi:hide_in\n",
    "xsensor = widgets.FloatText(value='8.6', description='Sensor X: ')\n",
    "ysensor = widgets.FloatText(value='6.80', description='Sensor Y: ')\n",
    "fTele = widgets.IntText(value='900', description='F Teleskop: ')\n",
    "\n",
    "def fov(x, y, f):\n",
    "    xfov = (x/f)*3438\n",
    "    yfov = (y/f)*3438\n",
    "#     print('FoV CCD:')\n",
    "#     print(xfov, 'x', yfov, 'arcminutes')\n",
    "    \n",
    "    xfov = xfov/60\n",
    "    yfov = yfov/60\n",
    "#     print(xfov, 'x', yfov, 'derajat')\n",
    "    \n",
    "    xdeg = int(xfov)\n",
    "    xm = (xfov-xdeg)*60\n",
    "    xs = (xm-int(xm))*60\n",
    "    ydeg = int(yfov)\n",
    "    ym = (yfov-ydeg)*60\n",
    "    ys = (ym-int(ym))*60\n",
    "    \n",
    "    print('FoV CCD: '+str(xdeg)+u\"\\N{DEGREE SIGN}\"+str(int(xm))+\"\\'\"+\"{:.2f}\".format(xs)+\"\\\"\", end=' x ')\n",
    "    print(str(ydeg)+u\"\\N{DEGREE SIGN}\"+str(int(ym))+\"\\'\"+\"{:.2f}\".format(ys)+\"\\\"\")\n",
    "\n"
   ]
  },
  {
   "cell_type": "code",
   "execution_count": 4,
   "metadata": {},
   "outputs": [
    {
     "data": {
      "application/vnd.jupyter.widget-view+json": {
       "model_id": "7899d42267834f8e9932e45a740179a7",
       "version_major": 2,
       "version_minor": 0
      },
      "text/plain": [
       "interactive(children=(FloatText(value=8.6, description='Sensor X: '), FloatText(value=6.8, description='Sensor…"
      ]
     },
     "metadata": {},
     "output_type": "display_data"
    }
   ],
   "source": [
    "# nbi:hide_in\n",
    "interactive(fov, x=xsensor, y=ysensor, f=fTele)"
   ]
  }
 ],
 "metadata": {
  "kernelspec": {
   "display_name": "Python 3",
   "language": "python",
   "name": "python3"
  },
  "language_info": {
   "codemirror_mode": {
    "name": "ipython",
    "version": 3
   },
   "file_extension": ".py",
   "mimetype": "text/x-python",
   "name": "python",
   "nbconvert_exporter": "python",
   "pygments_lexer": "ipython3",
   "version": "3.7.6"
  },
  "widgets": {
   "application/vnd.jupyter.widget-state+json": {
    "state": {
     "0fc4a566eb614ede81e57ccf5b00816a": {
      "model_module": "@jupyter-widgets/base",
      "model_module_version": "1.2.0",
      "model_name": "LayoutModel",
      "state": {}
     },
     "138c760c9a3240f0bb7e287758669d3d": {
      "model_module": "@jupyter-widgets/controls",
      "model_module_version": "1.5.0",
      "model_name": "DescriptionStyleModel",
      "state": {
       "description_width": ""
      }
     },
     "3519d24f68694b41a66dfb3d8cdc8e9f": {
      "model_module": "@jupyter-widgets/base",
      "model_module_version": "1.2.0",
      "model_name": "LayoutModel",
      "state": {}
     },
     "466948baf49b4955bb36ac606a1d1b39": {
      "model_module": "@jupyter-widgets/controls",
      "model_module_version": "1.5.0",
      "model_name": "FloatTextModel",
      "state": {
       "description": "Sensor X: ",
       "layout": "IPY_MODEL_49c021f0a33b43eea7db261dd29ac39b",
       "step": null,
       "style": "IPY_MODEL_138c760c9a3240f0bb7e287758669d3d",
       "value": 8.6
      }
     },
     "49c021f0a33b43eea7db261dd29ac39b": {
      "model_module": "@jupyter-widgets/base",
      "model_module_version": "1.2.0",
      "model_name": "LayoutModel",
      "state": {}
     },
     "5e6af1c24b204101b91f849463aa4ac9": {
      "model_module": "@jupyter-widgets/controls",
      "model_module_version": "1.5.0",
      "model_name": "DescriptionStyleModel",
      "state": {
       "description_width": ""
      }
     },
     "5fa8e11a0b204a7d982413dae6548330": {
      "model_module": "@jupyter-widgets/controls",
      "model_module_version": "1.5.0",
      "model_name": "FloatTextModel",
      "state": {
       "description": "Sensor Y: ",
       "layout": "IPY_MODEL_f0df939d0f6444638d93e3c98c3578e7",
       "step": null,
       "style": "IPY_MODEL_5e6af1c24b204101b91f849463aa4ac9",
       "value": 6.8
      }
     },
     "75c25500a8a5479ca46fd94b81faea89": {
      "model_module": "@jupyter-widgets/controls",
      "model_module_version": "1.5.0",
      "model_name": "DescriptionStyleModel",
      "state": {
       "description_width": ""
      }
     },
     "7899d42267834f8e9932e45a740179a7": {
      "model_module": "@jupyter-widgets/controls",
      "model_module_version": "1.5.0",
      "model_name": "VBoxModel",
      "state": {
       "_dom_classes": [
        "widget-interact"
       ],
       "children": [
        "IPY_MODEL_466948baf49b4955bb36ac606a1d1b39",
        "IPY_MODEL_5fa8e11a0b204a7d982413dae6548330",
        "IPY_MODEL_ff1c291286154b398bb72c8d3db7d2e5",
        "IPY_MODEL_d20891e22d064baeaca5ca54e1a90e0a"
       ],
       "layout": "IPY_MODEL_0fc4a566eb614ede81e57ccf5b00816a"
      }
     },
     "d186942e71c24064a4a7361a490a8bab": {
      "model_module": "@jupyter-widgets/base",
      "model_module_version": "1.2.0",
      "model_name": "LayoutModel",
      "state": {}
     },
     "d20891e22d064baeaca5ca54e1a90e0a": {
      "model_module": "@jupyter-widgets/output",
      "model_module_version": "1.0.0",
      "model_name": "OutputModel",
      "state": {
       "layout": "IPY_MODEL_d186942e71c24064a4a7361a490a8bab",
       "outputs": [
        {
         "name": "stdout",
         "output_type": "stream",
         "text": "FoV CCD: 0°32'51.12\" x 0°25'58.56\"\n"
        }
       ]
      }
     },
     "f0df939d0f6444638d93e3c98c3578e7": {
      "model_module": "@jupyter-widgets/base",
      "model_module_version": "1.2.0",
      "model_name": "LayoutModel",
      "state": {}
     },
     "ff1c291286154b398bb72c8d3db7d2e5": {
      "model_module": "@jupyter-widgets/controls",
      "model_module_version": "1.5.0",
      "model_name": "IntTextModel",
      "state": {
       "description": "F Teleskop: ",
       "layout": "IPY_MODEL_3519d24f68694b41a66dfb3d8cdc8e9f",
       "step": 1,
       "style": "IPY_MODEL_75c25500a8a5479ca46fd94b81faea89",
       "value": 900
      }
     }
    },
    "version_major": 2,
    "version_minor": 0
   }
  }
 },
 "nbformat": 4,
 "nbformat_minor": 4
}
